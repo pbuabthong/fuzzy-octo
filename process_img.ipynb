{
 "cells": [
  {
   "cell_type": "code",
   "execution_count": 2,
   "id": "6abab457",
   "metadata": {},
   "outputs": [
    {
     "name": "stdout",
     "output_type": "stream",
     "text": [
      "Cropped LINE_ALBUM_ม.12 คะ_240630_5.jpg\n",
      "Cropped LINE_ALBUM_หมู่1บ้านตาเงิน_240630_4.jpg\n",
      "Cropped LINE_ALBUM_ม.12 คะ_240630_4.jpg\n",
      "Cropped LINE_ALBUM_ม.12 คะ_240630_3.jpg\n",
      "Cropped LINE_ALBUM_หมู่1บ้านตาเงิน_240630_2.jpg\n",
      "Cropped LINE_ALBUM_หมู่1บ้านตาเงิน_240630_3.jpg\n",
      "Cropped LINE_ALBUM_ม.12 คะ_240630_2.jpg\n",
      "Cropped LINE_ALBUM_หมู่1บ้านตาเงิน_240630_1.jpg\n",
      "Cropped LINE_ALBUM_ม.12 คะ_240630_1.jpg\n",
      "Cropped LINE_ALBUM_หมู่ 4 ต.ศรีละกอ_240630_7.jpg\n",
      "Cropped LINE_ALBUM_หมู่ 4 ต.ศรีละกอ_240630_2.jpg\n",
      "Cropped LINE_ALBUM_ม.5 บ้านโคกสำโรง_240630_1.jpg\n",
      "Cropped LINE_ALBUM_ม.5 บ้านโคกสำโรง_240630_2.jpg\n",
      "Cropped LINE_ALBUM_ม.5 บ้านโคกสำโรง_240630_3.jpg\n",
      "Cropped LINE_ALBUM_หมู่ 4 ต.ศรีละกอ_240630_12.jpg\n",
      "Cropped LINE_ALBUM_หมู่ 4 ต.ศรีละกอ_240630_10.jpg\n",
      "Cropped LINE_ALBUM_ม.5 บ้านโคกสำโรง_240630_4.jpg\n",
      "Cropped LINE_ALBUM_หมู่ 4 ต.ศรีละกอ_240630_11.jpg\n"
     ]
    }
   ],
   "source": [
    "import os\n",
    "from PIL import Image\n",
    "\n",
    "def crop_to_top_square(image_path, output_path):\n",
    "    with Image.open(image_path) as img:\n",
    "        width, height = img.size\n",
    "        side_length = min(width, height)\n",
    "        left = 0\n",
    "        top = 0\n",
    "        right = side_length\n",
    "        bottom = side_length\n",
    "        cropped_img = img.crop((left, top, right, bottom))\n",
    "        cropped_img.save(output_path)\n",
    "\n",
    "def crop_all_images_in_folder(input_folder, output_folder):\n",
    "    if not os.path.exists(output_folder):\n",
    "        os.makedirs(output_folder)\n",
    "    \n",
    "    for filename in os.listdir(input_folder):\n",
    "        if filename.endswith(\".jpg\"):\n",
    "            input_path = os.path.join(input_folder, filename)\n",
    "            output_path = os.path.join(output_folder, filename)\n",
    "            crop_to_top_square(input_path, output_path)\n",
    "            print(f\"Cropped {filename}\")\n",
    "\n",
    "# Define your input and output folders here\n",
    "input_folder = 'data/households'\n",
    "output_folder = 'data/households_cropt'\n",
    "\n",
    "crop_all_images_in_folder(input_folder, output_folder)\n"
   ]
  },
  {
   "cell_type": "code",
   "execution_count": 3,
   "id": "efbee74b",
   "metadata": {},
   "outputs": [
    {
     "name": "stdout",
     "output_type": "stream",
     "text": [
      "Renamed LINE_ALBUM_ม.12 คะ_240630_1.jpg to img_1.jpg\n",
      "Renamed LINE_ALBUM_ม.12 คะ_240630_2.jpg to img_2.jpg\n",
      "Renamed LINE_ALBUM_ม.12 คะ_240630_3.jpg to img_3.jpg\n",
      "Renamed LINE_ALBUM_ม.12 คะ_240630_4.jpg to img_4.jpg\n",
      "Renamed LINE_ALBUM_ม.12 คะ_240630_5.jpg to img_5.jpg\n",
      "Renamed LINE_ALBUM_ม.5 บ้านโคกสำโรง_240630_1.jpg to img_6.jpg\n",
      "Renamed LINE_ALBUM_ม.5 บ้านโคกสำโรง_240630_2.jpg to img_7.jpg\n",
      "Renamed LINE_ALBUM_ม.5 บ้านโคกสำโรง_240630_3.jpg to img_8.jpg\n",
      "Renamed LINE_ALBUM_ม.5 บ้านโคกสำโรง_240630_4.jpg to img_9.jpg\n",
      "Renamed LINE_ALBUM_หมู่ 4 ต.ศรีละกอ_240630_10.jpg to img_10.jpg\n",
      "Renamed LINE_ALBUM_หมู่ 4 ต.ศรีละกอ_240630_11.jpg to img_11.jpg\n",
      "Renamed LINE_ALBUM_หมู่ 4 ต.ศรีละกอ_240630_12.jpg to img_12.jpg\n",
      "Renamed LINE_ALBUM_หมู่ 4 ต.ศรีละกอ_240630_2.jpg to img_13.jpg\n",
      "Renamed LINE_ALBUM_หมู่ 4 ต.ศรีละกอ_240630_7.jpg to img_14.jpg\n",
      "Renamed LINE_ALBUM_หมู่1บ้านตาเงิน_240630_1.jpg to img_15.jpg\n",
      "Renamed LINE_ALBUM_หมู่1บ้านตาเงิน_240630_2.jpg to img_16.jpg\n",
      "Renamed LINE_ALBUM_หมู่1บ้านตาเงิน_240630_3.jpg to img_17.jpg\n",
      "Renamed LINE_ALBUM_หมู่1บ้านตาเงิน_240630_4.jpg to img_18.jpg\n"
     ]
    }
   ],
   "source": [
    "import os\n",
    "\n",
    "def rename_files_in_folder(folder_path):\n",
    "    # Get a list of all files in the folder\n",
    "    files = os.listdir(folder_path)\n",
    "    \n",
    "    # Sort the files to ensure consistent ordering\n",
    "    files.sort()\n",
    "    \n",
    "    # Rename each file to a number followed by .png\n",
    "    for i, filename in enumerate(files, start=1):\n",
    "        # Get the file extension\n",
    "        file_extension = os.path.splitext(filename)[1]\n",
    "        # Generate the new filename\n",
    "        new_filename = f\"img_{i}.jpg\"\n",
    "        # Define the full path for the old and new filenames\n",
    "        old_filepath = os.path.join(folder_path, filename)\n",
    "        new_filepath = os.path.join(folder_path, new_filename)\n",
    "        # Rename the file\n",
    "        os.rename(old_filepath, new_filepath)\n",
    "        print(f\"Renamed {filename} to {new_filename}\")\n",
    "\n",
    "# Define the folder path\n",
    "folder_path = 'data/households_crop'\n",
    "\n",
    "# Call the function to rename files\n",
    "rename_files_in_folder(folder_path)\n"
   ]
  },
  {
   "cell_type": "code",
   "execution_count": null,
   "id": "76d68ae5",
   "metadata": {},
   "outputs": [],
   "source": []
  }
 ],
 "metadata": {
  "kernelspec": {
   "display_name": "Python 3 (ipykernel)",
   "language": "python",
   "name": "python3"
  },
  "language_info": {
   "codemirror_mode": {
    "name": "ipython",
    "version": 3
   },
   "file_extension": ".py",
   "mimetype": "text/x-python",
   "name": "python",
   "nbconvert_exporter": "python",
   "pygments_lexer": "ipython3",
   "version": "3.9.12"
  }
 },
 "nbformat": 4,
 "nbformat_minor": 5
}
